{
 "cells": [
  {
   "cell_type": "raw",
   "id": "61ce71d2",
   "metadata": {},
   "source": [
    "A school originated ISA contracts with 100 students on January 1, 2022. Review the following contract terms: \n",
    "\n",
    "The tuition amount is $4000. \n",
    "ISA maximum payback amount is $4500. \n",
    "\n",
    "Contracts are financed, meaning a lender will pay the school the tuition and then collect the maximum payback amount from the student during their repayment period.\n",
    "\n",
    "The repayment period (when we start looking at income to bill against it) starts the month after graduation on the 1st of the month\n",
    "\n",
    "Repayment period lasts a maximum of 1 year. \n",
    "\n",
    "Graduation date for this pool of contracts is April 1, 2022\n",
    "\n",
    "Minimum income to trigger a payment in a month is $3000 per month. If income per month is below this threshold then there is no payment required for that month.\n",
    "\n",
    "Payment is 10% of gross income in a month\n",
    "\n",
    "20% of students find a job and start earning $72,000 in salary starting exactly 5 month after graduation\n",
    "\n",
    "50% of students find a job and start earning $48,000 in salary starting exactly 1 month after graduation\n",
    "\n",
    "30%  of students find a job and start earning $60,000 in salary starting exactly 3 months after graduation "
   ]
  },
  {
   "cell_type": "markdown",
   "id": "1c0cf77b",
   "metadata": {},
   "source": [
    "## 1) How much do you expect to be owed from income earned in March, 2023? \n",
    "\n"
   ]
  },
  {
   "cell_type": "code",
   "execution_count": 1,
   "id": "dde6c4ca",
   "metadata": {},
   "outputs": [],
   "source": [
    "import datetime\n",
    "import pandas as pd\n",
    "from dateutil.relativedelta import relativedelta\n",
    "\n",
    "\n",
    "def income_receivables(annual_salary,pct_of_students,months_after_graduation,final_date,pct_of_gross_income):\n",
    "    \n",
    "    total_paid = 0\n",
    "\n",
    "    tuition_amount = 4000\n",
    "    max_ISA_payback = 4500\n",
    "    total_number_of_students = 100  \n",
    "    min_income_per_month = 3000\n",
    "    graduation_date = datetime.date(2022, 4, 1)\n",
    "    repayment_period_date = datetime.date(2022, 5, 1)\n",
    "    final_date = pd.to_datetime(final_date)\n",
    "    monthly_salary = annual_salary/12\n",
    "    payment = pct_of_gross_income*monthly_salary\n",
    "    \n",
    "    n_students_with_given_salary = total_number_of_students * pct_of_students \n",
    "    \n",
    "    actual_starting_payment_date = graduation_date + relativedelta(months=months_after_graduation) \n",
    "    \n",
    "    date_delta = relativedelta(final_date,actual_starting_payment_date)\n",
    "    n_months_of_payment = date_delta.months + (date_delta.years * 12) \n",
    "    \n",
    "    \n",
    "    if monthly_salary < min_income_per_month: #If monthly salary is less than 3000, no payment is needed\n",
    "    \n",
    "        return 0\n",
    "\n",
    "    else:\n",
    "        \n",
    "        for i in range(1,n_months_of_payment+1): #Here we iterate through each month of possible payment, ensuring the total amount paid does not excess the threshold of maximum payback amount\n",
    "            \n",
    "            total_paid = total_paid + payment\n",
    "            \n",
    "            if total_paid > max_ISA_payback:\n",
    "                \n",
    "                total_paid = total_paid - payment\n",
    "                \n",
    "                break\n",
    "        \n",
    "    return total_paid*n_students_with_given_salary #Function returns the total paid per student x number of students \n",
    "    \n"
   ]
  },
  {
   "cell_type": "code",
   "execution_count": 2,
   "id": "277f8a55",
   "metadata": {},
   "outputs": [
    {
     "name": "stdout",
     "output_type": "stream",
     "text": [
      "I'd expect to be owed $392000.0 by March,2023\n"
     ]
    }
   ],
   "source": [
    "total = income_receivables(72000,0.2,5,'2023-03-01',0.1) + income_receivables(48000,0.5,1,'2023-03-01',0.1) + income_receivables(60000,0.3,3,'2023-03-01',0.1)\n",
    "\n",
    "print(\"I'd expect to be owed \" + '$' + str(total) + \" by March,2023\")\n"
   ]
  },
  {
   "cell_type": "markdown",
   "id": "5cf4c414",
   "metadata": {},
   "source": [
    "## 2) How much do you expect to be owed from income earned in April, 2023? "
   ]
  },
  {
   "cell_type": "code",
   "execution_count": 3,
   "id": "c5697d99",
   "metadata": {},
   "outputs": [
    {
     "name": "stdout",
     "output_type": "stream",
     "text": [
      "I'd expect to be owed $439000.0 by April,2023\n"
     ]
    }
   ],
   "source": [
    "total = income_receivables(72000,0.2,5,'2023-04-01',0.1) + income_receivables(48000,0.5,1,'2023-04-01',0.1) + income_receivables(60000,0.3,3,'2023-04-01',0.1)\n",
    "\n",
    "print(\"I'd expect to be owed \" + '$' + str(total) + \" by April,2023\")\n"
   ]
  },
  {
   "cell_type": "markdown",
   "id": "f403b589",
   "metadata": {},
   "source": [
    "## 3) Assuming the lender provided the school with the full tuition amount and all bills are paid by students, how much profit do you expect the lender to make at the end of the repayment period? "
   ]
  },
  {
   "cell_type": "code",
   "execution_count": 5,
   "id": "45d4c87c",
   "metadata": {},
   "outputs": [
    {
     "name": "stdout",
     "output_type": "stream",
     "text": [
      "I'd expect the lender to have a profit of $39000.0 at the end of the repayment period\n"
     ]
    }
   ],
   "source": [
    "total_money_lent = 4000*100 #Tuition cost per student x Number of students\n",
    "\n",
    "# Given how the repayment period starts in May 2022, that means the repayment period ends in May 2023.\n",
    "# Therefore, the last repayment installment would occur(if applicable) in April 2023. \n",
    "\n",
    "#So we'll use the same function created above, but with May 2023 as our final date.\n",
    "\n",
    "total_money_received = income_receivables(72000,0.2,5,'2023-05-01',0.1) + income_receivables(48000,0.5,1,'2023-05-01',0.1) + income_receivables(60000,0.3,3,'2023-05-01',0.1)\n",
    "\n",
    "profit = total_money_received - total_money_lent\n",
    "\n",
    "print(\"I'd expect the lender to have a profit of \" + '$' + str(profit) + \" at the end of the repayment period\")"
   ]
  },
  {
   "cell_type": "markdown",
   "id": "49ab4d2c",
   "metadata": {},
   "source": [
    "## 4) If the percent of gross income billed per month decreased by 1 percentage point, how much less profit would the lender make? "
   ]
  },
  {
   "cell_type": "code",
   "execution_count": 6,
   "id": "4edb1de5",
   "metadata": {},
   "outputs": [
    {
     "name": "stdout",
     "output_type": "stream",
     "text": [
      "I'd expect the lender to have a profit of $37400.0 at the end of the repayment period, thus $1600 less\n"
     ]
    }
   ],
   "source": [
    "total_money_received = income_receivables(72000,0.2,5,'2023-05-01',0.09) + income_receivables(48000,0.5,1,'2023-05-01',0.09) + income_receivables(60000,0.3,3,'2023-05-01',0.09)\n",
    "\n",
    "profit = total_money_received - total_money_lent\n",
    "\n",
    "print(\"I'd expect the lender to have a profit of \" + '$' + str(profit) + \" at the end of the repayment period, thus $1600 less\")"
   ]
  },
  {
   "cell_type": "code",
   "execution_count": null,
   "id": "bc9d0fa4",
   "metadata": {},
   "outputs": [],
   "source": []
  }
 ],
 "metadata": {
  "kernelspec": {
   "display_name": "Python 3 (ipykernel)",
   "language": "python",
   "name": "python3"
  },
  "language_info": {
   "codemirror_mode": {
    "name": "ipython",
    "version": 3
   },
   "file_extension": ".py",
   "mimetype": "text/x-python",
   "name": "python",
   "nbconvert_exporter": "python",
   "pygments_lexer": "ipython3",
   "version": "3.9.12"
  }
 },
 "nbformat": 4,
 "nbformat_minor": 5
}
